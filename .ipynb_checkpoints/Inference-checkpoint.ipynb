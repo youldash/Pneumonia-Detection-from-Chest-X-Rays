{
 "cells": [
  {
   "cell_type": "code",
   "execution_count": null,
   "metadata": {},
   "outputs": [],
   "source": [
    "import numpy as np\n",
    "import pandas as pd\n",
    "import pydicom\n",
    "%matplotlib inline\n",
    "import matplotlib.pyplot as plt\n",
    "import tensorflow.keras as keras"
   ]
  },
  {
   "cell_type": "code",
   "execution_count": null,
   "metadata": {},
   "outputs": [],
   "source": [
    "# This function reads in a .dcm file, checks the important fields for our device, and returns a numpy array\n",
    "# of just the imaging data.\n",
    "def check_dicom(filename): \n",
    "\n",
    "    # Todo\n",
    "    ds = pydicom.dcmread(filename)\n",
    "    \n",
    "    if (ds.BodyPartExamined !='CHEST') or (ds.Modality !='DX') or (ds.PatientPosition not in ['AP','PA']):\n",
    "        img = None\n",
    "        print('Image doesn\\'t match the criteria of being a valid chest X-ray!\\n')\n",
    "        \n",
    "    else:\n",
    "        print('Load file {} ...'.format(filename))\n",
    "        img = ds.pixel_array\n",
    "        \n",
    "    return img\n",
    "    \n",
    "    \n",
    "# This function takes the numpy array output by check_dicom and\n",
    "# runs the appropriate pre-processing needed for our model input.\n",
    "def preprocess_image(img, img_size): \n",
    "    \n",
    "    # Todo\n",
    "    img_mean = np.mean(img)\n",
    "    img_std = np.std(img)\n",
    "    proc_img = (img-img_mean) / img_std\n",
    "    proc_img = np.resize(proc_img,img_size)\n",
    "    \n",
    "    return proc_img\n",
    "\n",
    "\n",
    "# This function loads in our trained model w/ weights and compiles it.\n",
    "def load_model(model_path, weight_path):\n",
    "    \n",
    "    # Todo\n",
    "    model = keras.models.model_from_json(open(model_path, 'r').read())\n",
    "    model.load_weights(weight_path)\n",
    "    \n",
    "    return model\n",
    "\n",
    "\n",
    "# This function uses our device's threshold parameters to predict whether or not\n",
    "# the image shows the presence of pneumonia using our trained model.\n",
    "def predict_image(model, img, threshold): \n",
    "    \n",
    "    # Todo\n",
    "    result = model.predict(img)  \n",
    "    predict = result[0]\n",
    "    prediction = \"Negative for Pneumonia\"\n",
    "    \n",
    "    if (predict > threshold):\n",
    "        prediction = \"Positive for Pneumonia\"\n",
    "    \n",
    "    return prediction "
   ]
  },
  {
   "cell_type": "code",
   "execution_count": null,
   "metadata": {},
   "outputs": [],
   "source": [
    "test_dicoms = ['test1.dcm', 'test2.dcm', 'test3.dcm', 'test4.dcm', 'test5.dcm', 'test6.dcm']\n",
    "\n",
    "model_path = \"./out/VGG16_v2.json\" # Path to saved model.\n",
    "weight_path = \"./out/xray_classification_VGG16_v2.best.hdf5\" # Path to saved best weights.\n",
    "\n",
    "IMG_SIZE = (1, 224, 224, 3) # This might be different if you did not use vgg16.\n",
    "# img_mean = # loads the mean image value they used during training preprocessing.\n",
    "# img_std = # loads the std dev image value they used during training preprocessing.\n",
    "\n",
    "my_model = load_model(model_path, weight_path) # loads model.\n",
    "threshold = .2934# loads the threshold they chose for model classification (threshold at MAX F1-score).\n",
    "\n",
    "# use the .dcm files to test your prediction.\n",
    "for i in test_dicoms:\n",
    "    \n",
    "    img = np.array([])\n",
    "    img = check_dicom(i)\n",
    "    \n",
    "    if img is None:\n",
    "        continue\n",
    "        \n",
    "    img_proc = preprocess_image(img, IMG_SIZE)\n",
    "    pred = predict_image(my_model, img_proc, threshold)\n",
    "    print('{} --------> {}'.format(i, pred))\n",
    "    \n",
    "    plt.imshow(img, cmap='gray')\n",
    "    plt.title(f'Study Label: {pydicom.dcmread(i).StudyDescription}')\n",
    "    plt.show()\n",
    "    print(f'Prediction: {pred}\\n')"
   ]
  },
  {
   "cell_type": "markdown",
   "metadata": {},
   "source": [
    "## FDA Validation: Population Descriptions of Patients"
   ]
  },
  {
   "cell_type": "code",
   "execution_count": null,
   "metadata": {},
   "outputs": [],
   "source": [
    "my_dicom = pydicom.dcmread(test_dicoms[2])\n",
    "my_dicom"
   ]
  },
  {
   "cell_type": "code",
   "execution_count": null,
   "metadata": {},
   "outputs": [],
   "source": [
    "my_dicom = pydicom.dcmread(test_dicoms[3])\n",
    "my_dicom"
   ]
  },
  {
   "cell_type": "code",
   "execution_count": null,
   "metadata": {},
   "outputs": [],
   "source": [
    "# Define lists.\n",
    "age_list = []\n",
    "gender_list = []\n",
    "\n",
    "for i in test_dicoms:    \n",
    "    ds = pydicom.dcmread(i)\n",
    "    age_list.append(ds.PatientAge)\n",
    "    gender_list.append(ds.PatientSex)"
   ]
  },
  {
   "cell_type": "code",
   "execution_count": null,
   "metadata": {},
   "outputs": [],
   "source": [
    "## Log the age list.\n",
    "age_list"
   ]
  },
  {
   "cell_type": "code",
   "execution_count": null,
   "metadata": {},
   "outputs": [],
   "source": [
    "## Log the gender list.\n",
    "gender_list"
   ]
  },
  {
   "cell_type": "code",
   "execution_count": null,
   "metadata": {},
   "outputs": [],
   "source": [
    "## We are done with this notebook!\n",
    "import IPython\n",
    "app = IPython.Application.instance()\n",
    "app.kernel.do_shutdown(True)"
   ]
  }
 ],
 "metadata": {
  "kernelspec": {
   "display_name": "Python 3 (ipykernel)",
   "language": "python",
   "name": "python3"
  },
  "language_info": {
   "codemirror_mode": {
    "name": "ipython",
    "version": 3
   },
   "file_extension": ".py",
   "mimetype": "text/x-python",
   "name": "python",
   "nbconvert_exporter": "python",
   "pygments_lexer": "ipython3",
   "version": "3.9.7"
  }
 },
 "nbformat": 4,
 "nbformat_minor": 2
}
